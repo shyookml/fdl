{
  "nbformat": 4,
  "nbformat_minor": 0,
  "metadata": {
    "colab": {
      "provenance": [],
      "authorship_tag": "ABX9TyM7OW97Ynd75aCDQX6JzPih",
      "include_colab_link": true
    },
    "kernelspec": {
      "name": "python3",
      "display_name": "Python 3"
    },
    "language_info": {
      "name": "python"
    }
  },
  "cells": [
    {
      "cell_type": "markdown",
      "metadata": {
        "id": "view-in-github",
        "colab_type": "text"
      },
      "source": [
        "<a href=\"https://colab.research.google.com/github/shyookml/fdl/blob/Chap.5/image_filter.ipynb\" target=\"_parent\"><img src=\"https://colab.research.google.com/assets/colab-badge.svg\" alt=\"Open In Colab\"/></a>"
      ]
    },
    {
      "cell_type": "code",
      "execution_count": 1,
      "metadata": {
        "colab": {
          "base_uri": "https://localhost:8080/",
          "height": 473
        },
        "id": "HWktNKdZTFja",
        "outputId": "a4071ce3-84cd-4fb5-ba9b-6c2a1605314a"
      },
      "outputs": [
        {
          "output_type": "stream",
          "name": "stdout",
          "text": [
            "Downloading data from https://storage.googleapis.com/tensorflow/tf-keras-datasets/train-labels-idx1-ubyte.gz\n",
            "32768/29515 [=================================] - 0s 0us/step\n",
            "40960/29515 [=========================================] - 0s 0us/step\n",
            "Downloading data from https://storage.googleapis.com/tensorflow/tf-keras-datasets/train-images-idx3-ubyte.gz\n",
            "26427392/26421880 [==============================] - 0s 0us/step\n",
            "26435584/26421880 [==============================] - 0s 0us/step\n",
            "Downloading data from https://storage.googleapis.com/tensorflow/tf-keras-datasets/t10k-labels-idx1-ubyte.gz\n",
            "16384/5148 [===============================================================================================] - 0s 0us/step\n",
            "Downloading data from https://storage.googleapis.com/tensorflow/tf-keras-datasets/t10k-images-idx3-ubyte.gz\n",
            "4423680/4422102 [==============================] - 0s 0us/step\n",
            "4431872/4422102 [==============================] - 0s 0us/step\n"
          ]
        },
        {
          "output_type": "execute_result",
          "data": {
            "text/plain": [
              "<matplotlib.image.AxesImage at 0x7f0b65427d90>"
            ]
          },
          "metadata": {},
          "execution_count": 1
        },
        {
          "output_type": "display_data",
          "data": {
            "text/plain": [
              "<Figure size 432x288 with 1 Axes>"
            ],
            "image/png": "[encoded data removed]"
          },
          "metadata": {
            "needs_background": "light"
          }
        }
      ],
      "source": [
        "from tensorflow.keras.datasets import fashion_mnist\n",
        "\n",
        "(x_train,y_train), (x_test,y_test)=fashion_mnist.load_data()\n",
        "\n",
        "import matplotlib.pyplot as plt\n",
        "plt.imshow(x_train[0])"
      ]
    },
    {
      "cell_type": "markdown",
      "source": [
        "# **Define Sobel filter**"
      ],
      "metadata": {
        "id": "lHYLelm0bhbJ"
      }
    },
    {
      "cell_type": "code",
      "source": [
        "import numpy as np\n",
        "import cv2\n",
        "\n",
        "\n",
        "horizontal_filter=np.array([[1.,2.,1.],\n",
        "                            [0.,0.,0.],\n",
        "                            [-1.,-2.,-1.]])\n",
        "\n",
        "vertical_filter=np.transpose(horizontal_filter)\n",
        "\n",
        "test_image=cv2.resize(x_train[0],(27,27))\n",
        "image_size=test_image.shape[0]\n",
        "output_size=int((image_size-3)/1+1)\n",
        "print(test_image.shape)\n",
        "plt.imshow(test_image)"
      ],
      "metadata": {
        "colab": {
          "base_uri": "https://localhost:8080/",
          "height": 300
        },
        "id": "GRSz_PYtbo5Q",
        "outputId": "a5788c6c-1fad-42fa-cebe-d8c5db352249"
      },
      "execution_count": 2,
      "outputs": [
        {
          "output_type": "stream",
          "name": "stdout",
          "text": [
            "(27, 27)\n"
          ]
        },
        {
          "output_type": "execute_result",
          "data": {
            "text/plain": [
              "<matplotlib.image.AxesImage at 0x7f0b58389cd0>"
            ]
          },
          "metadata": {},
          "execution_count": 2
        },
        {
          "output_type": "display_data",
          "data": {
            "text/plain": [
              "<Figure size 432x288 with 1 Axes>"
            ],
            "image/png": "[encoded data removed]"
          },
          "metadata": {
            "needs_background": "light"
          }
        }
      ]
    },
    {
      "cell_type": "markdown",
      "source": [
        "# **Applying filter to the image**"
      ],
      "metadata": {
        "id": "KhEE8CnzhVyK"
      }
    },
    {
      "cell_type": "code",
      "source": [
        "filter_size=3\n",
        "\n",
        "def get_filtered_image(filter):\n",
        "  filtered_image=np.zeros((output_size,output_size))\n",
        "  for i in range(output_size):\n",
        "    for j in range(output_size):\n",
        "      indice_image=test_image[i:(i+filter_size),j:(j+filter_size)]*filter\n",
        "      indice_sum=np.sum(indice_image)\n",
        "      if(indice_sum>255):\n",
        "        indice_sum=255\n",
        "      filtered_image[i,j]=indice_sum\n",
        "  return filtered_image\n",
        "\n",
        "viertical_filtered_image=get_filtered_image(vertical_filter)\n",
        "horizontal_filtered_image=get_filtered_image(horizontal_filter)\n",
        "\n",
        "plt.subplot(1,2,1)\n",
        "plt.title('vertical')\n",
        "plt.imshow(viertical_filtered_image)\n",
        "\n",
        "plt.subplot(1,2,2)\n",
        "plt.title('horizontal')\n",
        "plt.imshow(horizontal_filtered_image)\n",
        "plt.show()\n"
      ],
      "metadata": {
        "colab": {
          "base_uri": "https://localhost:8080/",
          "height": 216
        },
        "id": "2tmZ5l4ghjv7",
        "outputId": "940d51d3-35d6-4409-bdc8-c2d303cd5c85"
      },
      "execution_count": 3,
      "outputs": [
        {
          "output_type": "display_data",
          "data": {
            "text/plain": [
              "<Figure size 432x288 with 2 Axes>"
            ],
            "image/png": "[encoded data removed]"
          },
          "metadata": {
            "needs_background": "light"
          }
        }
      ]
    },
    {
      "cell_type": "markdown",
      "source": [
        "# **Final result**"
      ],
      "metadata": {
        "id": "q5cJrH2Akv44"
      }
    },
    {
      "cell_type": "code",
      "source": [
        "sobel_image=np.sqrt(np.square(horizontal_filtered_image)+np.square(viertical_filtered_image))\n",
        "plt.imshow(sobel_image)\n",
        "plt.show()"
      ],
      "metadata": {
        "colab": {
          "base_uri": "https://localhost:8080/",
          "height": 265
        },
        "id": "Z9LyIAE0k1Um",
        "outputId": "5f166772-9871-481f-c9ec-82c49df3dff1"
      },
      "execution_count": 4,
      "outputs": [
        {
          "output_type": "display_data",
          "data": {
            "text/plain": [
              "<Figure size 432x288 with 1 Axes>"
            ],
            "image/png": "[encoded data removed]"
          },
          "metadata": {
            "needs_background": "light"
          }
        }
      ]
    },
    {
      "cell_type": "markdown",
      "source": [
        "# **Pooling filter**"
      ],
      "metadata": {
        "id": "Ybhu6FuLrDZm"
      }
    },
    {
      "cell_type": "code",
      "source": [
        "import numpy as np\n",
        "\n",
        "image=x_train[0]\n",
        "image_x=image.shape[0]\n",
        "image_y=image.shape[1]\n",
        "\n",
        "new_image_x=int(image_x/2)\n",
        "new_image_y=int(image_y/2)\n",
        "\n",
        "pooled_image=np.zeros((new_image_x,new_image_y))\n",
        "\n",
        "print(f'original image shape: ({image_x},{image_y})')\n",
        "print(f'pooled image shape: ({new_image_x},{new_image_y})')\n",
        "\n",
        "for x in range(0,image_x,2):\n",
        "  for y in range(0,image_y,2):\n",
        "    pooled_image[int(x/2)][int(y/2)]=np.max(image[x:x+2,y:y+2])\n",
        "\n",
        "plt.imshow(pooled_image)\n",
        "plt.show()"
      ],
      "metadata": {
        "colab": {
          "base_uri": "https://localhost:8080/",
          "height": 300
        },
        "id": "EyjekihHrCVg",
        "outputId": "3029beca-2132-4844-b7bc-bdbe8a223f39"
      },
      "execution_count": 7,
      "outputs": [
        {
          "output_type": "stream",
          "name": "stdout",
          "text": [
            "original image shape: (28,28)\n",
            "pooled image shape: (14,14)\n"
          ]
        },
        {
          "output_type": "display_data",
          "data": {
            "text/plain": [
              "<Figure size 432x288 with 1 Axes>"
            ],
            "image/png": "[encoded data removed]"
          },
          "metadata": {
            "needs_background": "light"
          }
        }
      ]
    }
  ]
}