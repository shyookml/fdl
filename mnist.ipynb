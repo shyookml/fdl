{
  "nbformat": 4,
  "nbformat_minor": 0,
  "metadata": {
    "colab": {
      "provenance": [],
      "authorship_tag": "ABX9TyO16HRJGagMuKYX7gkfNnFa",
      "include_colab_link": true
    },
    "kernelspec": {
      "name": "python3",
      "display_name": "Python 3"
    },
    "language_info": {
      "name": "python"
    }
  },
  "cells": [
    {
      "cell_type": "markdown",
      "metadata": {
        "id": "view-in-github",
        "colab_type": "text"
      },
      "source": [
        "<a href=\"https://colab.research.google.com/github/shyookml/fdl/blob/Chap.4/mnist.ipynb\" target=\"_parent\"><img src=\"https://colab.research.google.com/assets/colab-badge.svg\" alt=\"Open In Colab\"/></a>"
      ]
    },
    {
      "cell_type": "markdown",
      "source": [
        "### **Chap. 3**\n",
        "MNIS data 가지고 놀기"
      ],
      "metadata": {
        "id": "igM2dcF-OUUQ"
      }
    },
    {
      "cell_type": "markdown",
      "source": [
        "\n",
        "\n",
        "*   Download MNIST data\n",
        "\n"
      ],
      "metadata": {
        "id": "3JGpPfgfOrtC"
      }
    },
    {
      "cell_type": "code",
      "execution_count": null,
      "metadata": {
        "id": "sv4NbAWUNdff"
      },
      "outputs": [],
      "source": [
        "import tensorflow as tf\n",
        "from tensorflow.keras.datasets.mnist import load_data\n",
        "\n",
        "(x_train_org,y_train_org),(x_test,y_test)=load_data(path='mnist.npz')"
      ]
    },
    {
      "cell_type": "markdown",
      "source": [
        "\n",
        "\n",
        "*   데이터 형태 확인\n",
        "\n",
        "  > x_train, x_test: 28x28 image data\n",
        "\n",
        "  > y_train, y_test: 0~9까지의 label data\n",
        "\n",
        "\n",
        "\n",
        "\n"
      ],
      "metadata": {
        "id": "QDI801BpTjiZ"
      }
    },
    {
      "cell_type": "code",
      "source": [
        "print(x_train_org.shape,y_train_org.shape)\n",
        "print(y_train_org)\n",
        "\n",
        "print(x_test.shape,y_test.shape)\n",
        "print(y_test)\n",
        "\n",
        "import matplotlib.pyplot as plt\n",
        "import numpy as np\n",
        "\n",
        "sample_size=3\n",
        "random_idx=np.random.randint(60000,size=sample_size)\n",
        "\n",
        "for idx in random_idx:\n",
        "  img=x_train_org[idx,:]\n",
        "  label=y_train_org[idx]\n",
        "  #print(img)\n",
        "  plt.figure()\n",
        "  plt.imshow(img)\n",
        "  plt.title('%d-th data, label:%d' %(idx,label))"
      ],
      "metadata": {
        "colab": {
          "base_uri": "https://localhost:8080/",
          "height": 878
        },
        "id": "1cuZtH-OTqVx",
        "outputId": "36bd93e7-5f37-4ae8-c13b-aacc65ee0a82"
      },
      "execution_count": null,
      "outputs": [
        {
          "output_type": "stream",
          "name": "stdout",
          "text": [
            "(60000, 28, 28) (60000,)\n",
            "[5 0 4 ... 5 6 8]\n",
            "(10000, 28, 28) (10000,)\n",
            "[7 2 1 ... 4 5 6]\n"
          ]
        },
        {
          "output_type": "display_data",
          "data": {
            "text/plain": [
              "<Figure size 432x288 with 1 Axes>"
            ],
            "image/png": "[encoded data removed]"
          },
          "metadata": {
            "needs_background": "light"
          }
        },
        {
          "output_type": "display_data",
          "data": {
            "text/plain": [
              "<Figure size 432x288 with 1 Axes>"
            ],
            "image/png": "[encoded data removed]"
          },
          "metadata": {
            "needs_background": "light"
          }
        },
        {
          "output_type": "display_data",
          "data": {
            "text/plain": [
              "<Figure size 432x288 with 1 Axes>"
            ],
            "image/png": "[encoded data removed]"
          },
          "metadata": {
            "needs_background": "light"
          }
        }
      ]
    },
    {
      "cell_type": "markdown",
      "source": [
        "\n",
        "\n",
        "*   검증 데이터 만들기 -- *데이터 전처리*\n",
        "> 훈련/테스트 데이터 비: 0.7/0.3\n",
        "\n",
        "  > 이것은 scikit-learn에서 기능 제공해줌.\n",
        "\n"
      ],
      "metadata": {
        "id": "jq3IU_VIXPGS"
      }
    },
    {
      "cell_type": "code",
      "source": [
        "from sklearn.model_selection import train_test_split\n",
        "\n",
        "x_train,x_val,y_train,y_val=train_test_split(x_train_org,y_train_org,test_size=0.3,random_state=777)\n",
        "print(f\"훈련데이터 {x_train.shape} 레이블 {y_train.shape}\")\n",
        "print(f\"검증데이터 {x_val.shape} 레이블 {y_val.shape}\")"
      ],
      "metadata": {
        "colab": {
          "base_uri": "https://localhost:8080/"
        },
        "id": "Y1qfNFj9Xols",
        "outputId": "87eace1b-7b36-4c08-db65-c068949a6076"
      },
      "execution_count": null,
      "outputs": [
        {
          "output_type": "stream",
          "name": "stdout",
          "text": [
            "훈련데이터 (42000, 28, 28) 레이블 (42000,)\n",
            "검증데이터 (18000, 28, 28) 레이블 (18000,)\n"
          ]
        }
      ]
    },
    {
      "cell_type": "markdown",
      "source": [
        "> 1차원 배열로 변환"
      ],
      "metadata": {
        "id": "jg1zHYRSbjzX"
      }
    },
    {
      "cell_type": "code",
      "source": [
        "num_x_train=x_train.shape[0]\n",
        "num_x_val=x_val.shape[0]\n",
        "num_x_test=x_test.shape[0]\n",
        "\n",
        "x_train=(x_train.reshape((num_x_train,28*28)))/255\n",
        "x_val=(x_val.reshape((num_x_val,28*28)))/255\n",
        "x_test=(x_test.reshape((num_x_test,28*28)))/255\n",
        "\n",
        "print(x_train.shape)\n",
        "\n",
        "\n",
        "# num_x_train = x_train.shape[0]\n",
        "# num_x_val = x_val.shape[0]\n",
        "# num_x_test = x_test.shape[0]\n",
        "\n",
        "# # 모델의 입력으로 사용하기 위한 전처리 과정입니다.\n",
        "# x_train = (x_train.reshape((num_x_train, 28 * 28))) / 255\n",
        "# x_val = (x_val.reshape((num_x_val, 28 * 28))) / 255\n",
        "# x_test = (x_test.reshape((num_x_test, 28 * 28))) / 255\n",
        "\n",
        "# print(x_train.shape) # 모델 입력을 위해 데이터를 784차원으로 변경합니다."
      ],
      "metadata": {
        "colab": {
          "base_uri": "https://localhost:8080/"
        },
        "id": "lL0GJDw8brYq",
        "outputId": "ad05c039-b9e3-49c1-b643-d51ce2c198dc"
      },
      "execution_count": null,
      "outputs": [
        {
          "output_type": "stream",
          "name": "stdout",
          "text": [
            "(42000, 784)\n"
          ]
        }
      ]
    },
    {
      "cell_type": "markdown",
      "source": [
        "> label을 범주형 label로 변환"
      ],
      "metadata": {
        "id": "xYVMXTWGc9eB"
      }
    },
    {
      "cell_type": "code",
      "source": [
        "from tensorflow.keras.utils import to_categorical\n",
        "\n",
        "# 주의: 변수 이름 바꿨음!!!\n",
        "y_train_categ=to_categorical(y_train)\n",
        "y_val_categ=to_categorical(y_val)\n",
        "y_test_categ=to_categorical(y_test)\n",
        "\n",
        "print(y_train_categ)"
      ],
      "metadata": {
        "colab": {
          "base_uri": "https://localhost:8080/"
        },
        "id": "6TgQMOTYdCma",
        "outputId": "c1b82d8a-75c8-442a-b475-6a1cb0b4484d"
      },
      "execution_count": null,
      "outputs": [
        {
          "output_type": "stream",
          "name": "stdout",
          "text": [
            "[2 7 6 ... 3 4 5]\n"
          ]
        }
      ]
    },
    {
      "cell_type": "markdown",
      "source": [
        "\n",
        "\n",
        "*   모델구성\n",
        "\n",
        "> 3개 층으로 구성된 DNN\n",
        "\n"
      ],
      "metadata": {
        "id": "RjKePd3ceROS"
      }
    },
    {
      "cell_type": "code",
      "source": [
        "from tensorflow.keras.models import Sequential\n",
        "from tensorflow.keras.layers import Dense\n",
        "\n",
        "model=Sequential()\n",
        "\n",
        "model.add(Dense(64,activation='relu', input_shape=(784,)))\n",
        "model.add(Dense(32,activation='relu'))\n",
        "model.add(Dense(10,activation='softmax'))"
      ],
      "metadata": {
        "id": "M2ZSoeS5edzs"
      },
      "execution_count": null,
      "outputs": []
    },
    {
      "cell_type": "markdown",
      "source": [
        "*   모델 연결하기 (묶기)\n",
        "> loss function: categorical_crossentropy\n",
        "\n",
        "  > optimzer: Adam"
      ],
      "metadata": {
        "id": "HY4PkzLRfslV"
      }
    },
    {
      "cell_type": "code",
      "source": [
        "model.compile(optimizer='adam',loss='categorical_crossentropy',metrics=['acc'])"
      ],
      "metadata": {
        "id": "2gffLDV-gKES"
      },
      "execution_count": null,
      "outputs": []
    },
    {
      "cell_type": "markdown",
      "source": [
        "\n",
        "\n",
        "*   모델 학습하기\n",
        "\n"
      ],
      "metadata": {
        "id": "0Fs0M4T6gpQc"
      }
    },
    {
      "cell_type": "code",
      "source": [
        "history=model.fit(x_train,y_train_categ,epochs=30,batch_size=128,validation_data=(x_val,y_val_categ))"
      ],
      "metadata": {
        "colab": {
          "base_uri": "https://localhost:8080/"
        },
        "id": "kZYwZyfWgoRh",
        "outputId": "4bb5ff6f-5a6c-48fe-b35f-f6a0993ac604"
      },
      "execution_count": null,
      "outputs": [
        {
          "output_type": "stream",
          "name": "stdout",
          "text": [
            "Epoch 1/30\n",
            "329/329 [==============================] - 5s 10ms/step - loss: 0.5180 - acc: 0.8527 - val_loss: 0.2579 - val_acc: 0.9257\n",
            "Epoch 2/30\n",
            "329/329 [==============================] - 3s 9ms/step - loss: 0.2147 - acc: 0.9384 - val_loss: 0.1942 - val_acc: 0.9438\n",
            "Epoch 3/30\n",
            "329/329 [==============================] - 2s 7ms/step - loss: 0.1623 - acc: 0.9528 - val_loss: 0.1667 - val_acc: 0.9517\n",
            "Epoch 4/30\n",
            "329/329 [==============================] - 3s 8ms/step - loss: 0.1313 - acc: 0.9620 - val_loss: 0.1515 - val_acc: 0.9567\n",
            "Epoch 5/30\n",
            "329/329 [==============================] - 2s 7ms/step - loss: 0.1113 - acc: 0.9677 - val_loss: 0.1365 - val_acc: 0.9601\n",
            "Epoch 6/30\n",
            "329/329 [==============================] - 3s 8ms/step - loss: 0.0937 - acc: 0.9725 - val_loss: 0.1213 - val_acc: 0.9631\n",
            "Epoch 7/30\n",
            "329/329 [==============================] - 2s 6ms/step - loss: 0.0812 - acc: 0.9762 - val_loss: 0.1155 - val_acc: 0.9661\n",
            "Epoch 8/30\n",
            "329/329 [==============================] - 1s 4ms/step - loss: 0.0721 - acc: 0.9789 - val_loss: 0.1179 - val_acc: 0.9658\n",
            "Epoch 9/30\n",
            "329/329 [==============================] - 1s 4ms/step - loss: 0.0626 - acc: 0.9818 - val_loss: 0.1161 - val_acc: 0.9677\n",
            "Epoch 10/30\n",
            "329/329 [==============================] - 1s 4ms/step - loss: 0.0562 - acc: 0.9828 - val_loss: 0.1158 - val_acc: 0.9656\n",
            "Epoch 11/30\n",
            "329/329 [==============================] - 1s 4ms/step - loss: 0.0494 - acc: 0.9861 - val_loss: 0.1051 - val_acc: 0.9678\n",
            "Epoch 12/30\n",
            "329/329 [==============================] - 1s 4ms/step - loss: 0.0434 - acc: 0.9875 - val_loss: 0.1077 - val_acc: 0.9697\n",
            "Epoch 13/30\n",
            "329/329 [==============================] - 1s 4ms/step - loss: 0.0375 - acc: 0.9893 - val_loss: 0.1142 - val_acc: 0.9668\n",
            "Epoch 14/30\n",
            "329/329 [==============================] - 1s 4ms/step - loss: 0.0346 - acc: 0.9901 - val_loss: 0.1150 - val_acc: 0.9694\n",
            "Epoch 15/30\n",
            "329/329 [==============================] - 1s 4ms/step - loss: 0.0318 - acc: 0.9907 - val_loss: 0.1089 - val_acc: 0.9703\n",
            "Epoch 16/30\n",
            "329/329 [==============================] - 1s 4ms/step - loss: 0.0244 - acc: 0.9934 - val_loss: 0.1235 - val_acc: 0.9660\n",
            "Epoch 17/30\n",
            "329/329 [==============================] - 1s 4ms/step - loss: 0.0231 - acc: 0.9937 - val_loss: 0.1189 - val_acc: 0.9693\n",
            "Epoch 18/30\n",
            "329/329 [==============================] - 1s 4ms/step - loss: 0.0202 - acc: 0.9949 - val_loss: 0.1152 - val_acc: 0.9708\n",
            "Epoch 19/30\n",
            "329/329 [==============================] - 1s 4ms/step - loss: 0.0191 - acc: 0.9946 - val_loss: 0.1124 - val_acc: 0.9717\n",
            "Epoch 20/30\n",
            "329/329 [==============================] - 1s 4ms/step - loss: 0.0171 - acc: 0.9954 - val_loss: 0.1151 - val_acc: 0.9702\n",
            "Epoch 21/30\n",
            "329/329 [==============================] - 1s 4ms/step - loss: 0.0147 - acc: 0.9959 - val_loss: 0.1208 - val_acc: 0.9694\n",
            "Epoch 22/30\n",
            "329/329 [==============================] - 1s 4ms/step - loss: 0.0125 - acc: 0.9967 - val_loss: 0.1300 - val_acc: 0.9678\n",
            "Epoch 23/30\n",
            "329/329 [==============================] - 1s 4ms/step - loss: 0.0111 - acc: 0.9974 - val_loss: 0.1288 - val_acc: 0.9697\n",
            "Epoch 24/30\n",
            "329/329 [==============================] - 1s 4ms/step - loss: 0.0093 - acc: 0.9978 - val_loss: 0.1359 - val_acc: 0.9684\n",
            "Epoch 25/30\n",
            "329/329 [==============================] - 1s 4ms/step - loss: 0.0131 - acc: 0.9961 - val_loss: 0.1287 - val_acc: 0.9712\n",
            "Epoch 26/30\n",
            "329/329 [==============================] - 1s 4ms/step - loss: 0.0103 - acc: 0.9971 - val_loss: 0.1297 - val_acc: 0.9711\n",
            "Epoch 27/30\n",
            "329/329 [==============================] - 1s 4ms/step - loss: 0.0088 - acc: 0.9976 - val_loss: 0.1465 - val_acc: 0.9691\n",
            "Epoch 28/30\n",
            "329/329 [==============================] - 1s 4ms/step - loss: 0.0085 - acc: 0.9978 - val_loss: 0.1382 - val_acc: 0.9721\n",
            "Epoch 29/30\n",
            "329/329 [==============================] - 1s 4ms/step - loss: 0.0036 - acc: 0.9997 - val_loss: 0.1345 - val_acc: 0.9721\n",
            "Epoch 30/30\n",
            "329/329 [==============================] - 1s 4ms/step - loss: 0.0034 - acc: 0.9993 - val_loss: 0.1393 - val_acc: 0.9718\n"
          ]
        }
      ]
    },
    {
      "cell_type": "markdown",
      "source": [
        "\n",
        "\n",
        "*   모델 평가\n",
        "\n"
      ],
      "metadata": {
        "id": "xthiexQMlKSo"
      }
    },
    {
      "cell_type": "code",
      "source": [
        "model.evaluate(x_test,y_test_categ)"
      ],
      "metadata": {
        "colab": {
          "base_uri": "https://localhost:8080/"
        },
        "id": "EAZ_OlJRlE1h",
        "outputId": "3bec491f-8a21-457a-a6df-09e0f43bb95f"
      },
      "execution_count": null,
      "outputs": [
        {
          "output_type": "stream",
          "name": "stdout",
          "text": [
            "313/313 [==============================] - 0s 1ms/step - loss: 0.1269 - acc: 0.9743\n"
          ]
        },
        {
          "output_type": "execute_result",
          "data": {
            "text/plain": [
              "[0.12691794335842133, 0.9743000268936157]"
            ]
          },
          "metadata": {},
          "execution_count": 9
        }
      ]
    },
    {
      "cell_type": "markdown",
      "source": [
        "* 학습 결과 그려보기"
      ],
      "metadata": {
        "id": "e__sBznXlkJC"
      }
    },
    {
      "cell_type": "code",
      "source": [
        "import matplotlib.pyplot as plt\n",
        "\n",
        "his_dict=history.history\n",
        "loss=his_dict['loss']\n",
        "val_loss=his_dict['val_loss']\n",
        "\n",
        "epochs=range(1,len(loss)+1)\n",
        "fig=plt.figure(figsize=(15,5))\n",
        "ax1=fig.add_subplot(1,2,1)\n",
        "ax1.plot(epochs,loss,color='b',label='train loss')\n",
        "ax1.plot(epochs,val_loss,color='r',label='val_loss')\n",
        "ax1.set_title('train and val loss')\n",
        "ax1.set_xlabel('epochs')\n",
        "ax1.set_ylabel('loss')\n",
        "ax1.legend()\n",
        "\n",
        "\n",
        "acc=his_dict['acc']\n",
        "val_acc=his_dict['val_acc']\n",
        "ax2=fig.add_subplot(1,2,2)\n",
        "ax2.plot(epochs,acc,color='b',label='train acc')\n",
        "ax2.plot(epochs,val_acc,color='r',label='val_acc')\n",
        "ax2.set_title('train and val accuracy')\n",
        "ax2.set_xlabel('epochs')\n",
        "ax2.set_ylabel('acc')\n",
        "ax2.legend()\n",
        "plt.show()"
      ],
      "metadata": {
        "colab": {
          "base_uri": "https://localhost:8080/",
          "height": 350
        },
        "id": "pirSb2EslnVq",
        "outputId": "d7727001-d826-441d-f397-10afdf35ea83"
      },
      "execution_count": null,
      "outputs": [
        {
          "output_type": "display_data",
          "data": {
            "text/plain": [
              "<Figure size 1080x360 with 2 Axes>"
            ],
            "image/png": "[encoded data removed]"
          },
          "metadata": {
            "needs_background": "light"
          }
        }
      ]
    },
    {
      "cell_type": "markdown",
      "source": [
        "* 학습된 모델을 통해 값 예측하기"
      ],
      "metadata": {
        "id": "TcmodzW9nug2"
      }
    },
    {
      "cell_type": "code",
      "source": [
        "import numpy as np\n",
        "\n",
        "results=model.predict(x_test)\n",
        "print(results.shape)\n",
        "np.set_printoptions(precision=7)\n",
        "print(f'각 클래스에 속할 확률\\n{results[0]}')\n",
        "print(f\"estimation:{np.argmax(results[0])}\")\n",
        "print(f\"정답:{y_test[0]}\")\n"
      ],
      "metadata": {
        "colab": {
          "base_uri": "https://localhost:8080/"
        },
        "id": "6gavdpfKnz3J",
        "outputId": "78e5b909-7aa7-41fa-8743-01a214b09b00"
      },
      "execution_count": null,
      "outputs": [
        {
          "output_type": "stream",
          "name": "stdout",
          "text": [
            "(10000, 10)\n",
            "각 클래스에 속할 확률\n",
            "[1.2983900e-09 2.3188597e-12 2.5574814e-10 3.6832702e-07 3.5250479e-14\n",
            " 4.4567818e-11 1.1808038e-18 9.9999821e-01 1.3777893e-06 7.0675021e-08]\n",
            "estimation:7\n",
            "정답:7\n"
          ]
        }
      ]
    }
  ]
}