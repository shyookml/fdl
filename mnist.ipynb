{
  "nbformat": 4,
  "nbformat_minor": 0,
  "metadata": {
    "colab": {
      "provenance": [],
      "authorship_tag": "ABX9TyPAmngX/ZjWnpa0fEYyql2f",
      "include_colab_link": true
    },
    "kernelspec": {
      "name": "python3",
      "display_name": "Python 3"
    },
    "language_info": {
      "name": "python"
    }
  },
  "cells": [
    {
      "cell_type": "markdown",
      "metadata": {
        "id": "view-in-github",
        "colab_type": "text"
      },
      "source": [
        "<a href=\"https://colab.research.google.com/github/shyookml/fdl/blob/Chap.4/mnist.ipynb\" target=\"_parent\"><img src=\"https://colab.research.google.com/assets/colab-badge.svg\" alt=\"Open In Colab\"/></a>"
      ]
    },
    {
      "cell_type": "markdown",
      "source": [
        "### **Chap. 3**\n",
        "MNIS data 가지고 놀기"
      ],
      "metadata": {
        "id": "igM2dcF-OUUQ"
      }
    },
    {
      "cell_type": "markdown",
      "source": [
        "\n",
        "\n",
        "*   Download MNIST data\n",
        "\n"
      ],
      "metadata": {
        "id": "3JGpPfgfOrtC"
      }
    },
    {
      "cell_type": "code",
      "execution_count": 5,
      "metadata": {
        "colab": {
          "base_uri": "https://localhost:8080/"
        },
        "id": "sv4NbAWUNdff",
        "outputId": "14537f56-f607-4b3c-a3e2-dcc4134ae81e"
      },
      "outputs": [
        {
          "output_type": "stream",
          "name": "stdout",
          "text": [
            "Downloading data from https://storage.googleapis.com/tensorflow/tf-keras-datasets/mnist.npz\n",
            "11493376/11490434 [==============================] - 0s 0us/step\n",
            "11501568/11490434 [==============================] - 0s 0us/step\n"
          ]
        }
      ],
      "source": [
        "import tensorflow as tf\n",
        "from tensorflow.keras.datasets.mnist import load_data\n",
        "\n",
        "(x_train,y_train),(x_test,y_test)=load_data(path='mnist.npz')"
      ]
    },
    {
      "cell_type": "markdown",
      "source": [
        "\n",
        "\n",
        "*   데이터 형태 확인\n",
        "\n",
        "  > x_train, x_test: 28x28 image data\n",
        "\n",
        "  > y_train, y_test: 0~9까지의 label data\n",
        "\n",
        "\n",
        "\n",
        "\n"
      ],
      "metadata": {
        "id": "QDI801BpTjiZ"
      }
    },
    {
      "cell_type": "code",
      "source": [
        "print(x_train.shape,y_train.shape)\n",
        "print(y_train)\n",
        "\n",
        "print(x_test.shape,y_test.shape)\n",
        "print(y_test)\n",
        "\n",
        "import matplotlib.pyplot as plt\n",
        "import numpy as np\n",
        "\n",
        "sample_size=3\n",
        "random_idx=np.random.randint(60000,size=sample_size)\n",
        "\n",
        "for idx in random_idx:\n",
        "  img=x_train[idx,:]\n",
        "  label=y_train[idx]\n",
        "  #print(img)\n",
        "  plt.figure()\n",
        "  plt.imshow(img)\n",
        "  plt.title('%d-th data, label:%d' %(idx,label))"
      ],
      "metadata": {
        "id": "1cuZtH-OTqVx"
      },
      "execution_count": null,
      "outputs": []
    }
  ]
}