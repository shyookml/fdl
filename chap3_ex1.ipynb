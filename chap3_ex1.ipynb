{
  "nbformat": 4,
  "nbformat_minor": 0,
  "metadata": {
    "colab": {
      "provenance": [],
      "authorship_tag": "ABX9TyOa4Bqb0ymOMZEdEeWIRBYS",
      "include_colab_link": true
    },
    "kernelspec": {
      "name": "python3",
      "display_name": "Python 3"
    },
    "language_info": {
      "name": "python"
    }
  },
  "cells": [
    {
      "cell_type": "markdown",
      "metadata": {
        "id": "view-in-github",
        "colab_type": "text"
      },
      "source": [
        "<a href=\"https://colab.research.google.com/github/shyookml/fdl/blob/Chap.3/chap3_ex1.ipynb\" target=\"_parent\"><img src=\"https://colab.research.google.com/assets/colab-badge.svg\" alt=\"Open In Colab\"/></a>"
      ]
    },
    {
      "cell_type": "markdown",
      "source": [
        "### **Chap. 3**"
      ],
      "metadata": {
        "id": "XSPwTcie24Tf"
      }
    },
    {
      "cell_type": "markdown",
      "source": [
        "*   Tensor operation"
      ],
      "metadata": {
        "id": "jm7WnM_B3Kmj"
      }
    },
    {
      "cell_type": "code",
      "execution_count": null,
      "metadata": {
        "id": "XO7BobSrefr6"
      },
      "outputs": [],
      "source": [
        "import tensorflow as tf\n",
        "\n",
        "a=tf.constant([1,2])\n",
        "print(tf.rank(a))"
      ]
    },
    {
      "cell_type": "code",
      "source": [
        "import tensorflow as tf\n",
        "import numpy as np\n",
        "\n",
        "a=tf.constant(3)\n",
        "b=tf.constant(2)\n",
        "\n",
        "print(tf.add(a,b))\n",
        "print(tf.subtract(a,b))\n",
        "print(tf.multiply(a,b).numpy())  # numpy array형태로 출력\n",
        "print(tf.divide(a,b).numpy())"
      ],
      "metadata": {
        "id": "eVQsS25f3mft"
      },
      "execution_count": null,
      "outputs": []
    },
    {
      "cell_type": "code",
      "source": [
        "c=tf.add(a,b).numpy()\n",
        "c_square=np.square(c,dtype=np.float32)\n",
        "c_tensor=tf.convert_to_tensor(c_square)\n",
        "\n",
        "print('numpy array: %.0f, applying square with numpy: %.1f, convert to tensor: %.1f' % (c,c_square,c_tensor))\n",
        "print(c_tensor)"
      ],
      "metadata": {
        "id": "Fe0gDih45LRv"
      },
      "execution_count": null,
      "outputs": []
    },
    {
      "cell_type": "markdown",
      "source": [
        "*   @tf.function"
      ],
      "metadata": {
        "id": "e-pgyXgC6pkj"
      }
    },
    {
      "cell_type": "code",
      "source": [
        "import tensorflow as tf\n",
        "\n",
        "@tf.function\n",
        "def square_pos(x):\n",
        "  if x>0:\n",
        "    x=x*x\n",
        "  else:\n",
        "    x*=-1\n",
        "  return x\n",
        "\n",
        "print(square_pos(tf.constant(2)))"
      ],
      "metadata": {
        "id": "LLL2t-MN6our"
      },
      "execution_count": null,
      "outputs": []
    },
    {
      "cell_type": "markdown",
      "source": [
        "*   perceptron"
      ],
      "metadata": {
        "id": "7Wje4do2LQR5"
      }
    },
    {
      "cell_type": "code",
      "source": [
        "import tensorflow as tf\n",
        "import numpy as np\n",
        "\n",
        "from tensorflow.keras.models import Sequential\n",
        "from tensorflow.keras.layers import Dense\n",
        "from tensorflow.keras.optimizers import SGD\n",
        "from tensorflow.keras.losses import mse\n",
        "\n",
        "tf.random.set_seed(777)\n",
        "\n",
        "# prepare data\n",
        "data=np.array([[0, 0], [1, 0], [0, 1], [1, 1]])\n",
        "label=np.array([[0],[1],[1],[1]])\n",
        "\n",
        "# construct a model\n",
        "#model=Sequential()\n",
        "model = Sequential()\n",
        "# single layered perceptron\n",
        "#model.add(Flatten(input_shape=[1,2]))\n",
        "model.add(Dense(1,input_shape=(2, ),activation='linear'))\n",
        "#model.add(Dense(1, input_shape = (2, ), activation = 'linear'))\n",
        "\n",
        "# prepare a model\n",
        "model.compile(optimizer=SGD(),loss=mse,metrics=['acc'])\n",
        "\n",
        "# start learning\n",
        "model.fit(data,label,epochs=500)\n",
        "weights,biases=model.get_weights()\n",
        "print('weights=',weights)\n",
        "print('biases=',biases)\n",
        "model.summary()"
      ],
      "metadata": {
        "id": "M6W-vBFiLXtX"
      },
      "execution_count": null,
      "outputs": []
    },
    {
      "cell_type": "markdown",
      "source": [
        "\n",
        "\n",
        "*   XOR gate 구현\n",
        "*   Multilayer perceptron\n",
        "> tf.matmul 사용하여 matrix multiplication\n",
        "\n",
        "\n",
        "\n"
      ],
      "metadata": {
        "id": "E7qvE2J1CBzU"
      }
    },
    {
      "cell_type": "code",
      "source": [
        "import tensorflow as tf\n",
        "import numpy as np\n",
        "\n",
        "from tensorflow.keras.models import Sequential\n",
        "from tensorflow.keras.layers import Dense\n",
        "from tensorflow.keras.optimizers import SGD\n",
        "from tensorflow.keras.losses import mse\n",
        "\n",
        "tf.random.set_seed(777)"
      ],
      "metadata": {
        "id": "XoprsNTUCfuJ"
      },
      "execution_count": null,
      "outputs": []
    }
  ]
}