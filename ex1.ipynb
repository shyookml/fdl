{
  "nbformat": 4,
  "nbformat_minor": 0,
  "metadata": {
    "colab": {
      "name": "ex1.ipynb",
      "provenance": [],
      "authorship_tag": "ABX9TyN/6Hkhsk7dQvxQT5UhKwUD",
      "include_colab_link": true
    },
    "kernelspec": {
      "name": "python3",
      "display_name": "Python 3"
    },
    "language_info": {
      "name": "python"
    }
  },
  "cells": [
    {
      "cell_type": "markdown",
      "metadata": {
        "id": "view-in-github",
        "colab_type": "text"
      },
      "source": [
        "<a href=\"https://colab.research.google.com/github/shyookml/fdl/blob/Chap.2/ex1.ipynb\" target=\"_parent\"><img src=\"https://colab.research.google.com/assets/colab-badge.svg\" alt=\"Open In Colab\"/></a>"
      ]
    },
    {
      "cell_type": "markdown",
      "source": [
        "### **딥러닝 입문**\n",
        "### Chap.2"
      ],
      "metadata": {
        "id": "eKCfrL5Slotr"
      }
    },
    {
      "cell_type": "markdown",
      "source": [
        "tensorflow 2.x에서 tensorflow 1.x 코드 사용하기 예제"
      ],
      "metadata": {
        "id": "XYE9myrIlzRw"
      }
    },
    {
      "cell_type": "code",
      "execution_count": 1,
      "metadata": {
        "colab": {
          "base_uri": "https://localhost:8080/"
        },
        "id": "kxNRuEUgNPPQ",
        "outputId": "529f5195-1368-4eb1-fe5d-f700f7ad7e11"
      },
      "outputs": [
        {
          "output_type": "stream",
          "name": "stderr",
          "text": [
            "WARNING:tensorflow:From /usr/local/lib/python3.7/dist-packages/tensorflow/python/compat/v2_compat.py:107: disable_resource_variables (from tensorflow.python.ops.variable_scope) is deprecated and will be removed in a future version.\n",
            "Instructions for updating:\n",
            "non-resource variables are not supported in the long term\n"
          ]
        },
        {
          "output_type": "stream",
          "name": "stdout",
          "text": [
            "2.8.2\n"
          ]
        },
        {
          "output_type": "execute_result",
          "data": {
            "text/plain": [
              "b'Deep Learning'"
            ]
          },
          "metadata": {},
          "execution_count": 1
        }
      ],
      "source": [
        "import tensorflow.compat.v1 as tf\n",
        "print(tf.__version__)\n",
        "tf.disable_v2_behavior()\n",
        "deep_learning=tf.constant('Deep Learning')\n",
        "session=tf.Session()\n",
        "session.run(deep_learning)"
      ]
    },
    {
      "cell_type": "markdown",
      "source": [
        "scikit-learn을 사용해서 ROC curve 구해 보는 예제"
      ],
      "metadata": {
        "id": "gEli4-Y8mEOy"
      }
    },
    {
      "cell_type": "code",
      "source": [
        "y_true=[0,1,1,1,1,0,1,1,0,0]\n",
        "\n",
        "A_proba=[0.6,0.7,0.7,0.8,0.9,0.7,0.85,0.7,0.65,0.75]\n",
        "B_proba=[0.05,0.05,0.1,0.3,0.6,0.3,0.4,0.5,0.2,0.1]\n",
        "C_proba=[0,1,1,1,1,0,1,1,0,0]\n",
        "\n",
        "from sklearn.metrics import roc_curve, auc\n",
        "\n",
        "\n",
        "fpr_A,tpr_A,thr_A=roc_curve(y_true,A_proba)\n",
        "fpr_B,tpr_B,thr_B=roc_curve(y_true,B_proba)\n",
        "fpr_C,tpr_C,thr_C=roc_curve(y_true,C_proba)\n",
        "\n",
        "auc_A=auc(fpr_A,tpr_A)\n",
        "auc_B=auc(fpr_B,tpr_B)\n",
        "auc_C=auc(fpr_C,tpr_C)\n",
        "\n",
        "import matplotlib.pyplot as plt\n",
        "\n",
        "plt.xlabel('FPR')\n",
        "plt.ylabel('TPR')\n",
        "plt.plot(fpr_A,tpr_A,color='darkorange',lw=2,label='ROC cureve (area=%.2f)' % auc_A)\n",
        "plt.plot(fpr_B,tpr_B,color='blue',lw=2,label='ROC cureve (area=%.2f)' % auc_B)\n",
        "plt.plot(fpr_C,tpr_C,color='green',lw=2,label='ROC cureve (area=%.2f)' % auc_C)\n",
        "plt.plot([0,1],[0,1],'r--',lw=2)\n",
        "plt.legend(loc='lower right')\n",
        "plt.show()\n"
      ],
      "metadata": {
        "colab": {
          "base_uri": "https://localhost:8080/",
          "height": 279
        },
        "id": "_qgi4nlwcxSo",
        "outputId": "e99d322a-6877-4976-8c1c-4326a6472a23"
      },
      "execution_count": 9,
      "outputs": [
        {
          "output_type": "display_data",
          "data": {
            "text/plain": [
              "<Figure size 432x288 with 1 Axes>"
            ],
            "image/png": "[encoded data removed]"
          },
          "metadata": {
            "needs_background": "light"
          }
        }
      ]
    }
  ]
}