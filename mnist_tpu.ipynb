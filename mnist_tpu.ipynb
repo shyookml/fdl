{
  "nbformat": 4,
  "nbformat_minor": 0,
  "metadata": {
    "colab": {
      "provenance": [],
      "authorship_tag": "ABX9TyPNUFTbj4BpD3lyWC9L/UmE",
      "include_colab_link": true
    },
    "kernelspec": {
      "name": "python3",
      "display_name": "Python 3"
    },
    "language_info": {
      "name": "python"
    },
    "accelerator": "TPU",
    "gpuClass": "standard"
  },
  "cells": [
    {
      "cell_type": "markdown",
      "metadata": {
        "id": "view-in-github",
        "colab_type": "text"
      },
      "source": [
        "<a href=\"https://colab.research.google.com/github/shyookml/fdl/blob/Chap.4/mnist_tpu.ipynb\" target=\"_parent\"><img src=\"https://colab.research.google.com/assets/colab-badge.svg\" alt=\"Open In Colab\"/></a>"
      ]
    },
    {
      "cell_type": "code",
      "execution_count": 2,
      "metadata": {
        "colab": {
          "base_uri": "https://localhost:8080/"
        },
        "id": "sPv_yMPb2G1a",
        "outputId": "3f17cc27-3699-47cf-bc5a-79fbdd08a969"
      },
      "outputs": [
        {
          "output_type": "stream",
          "name": "stderr",
          "text": [
            "WARNING:tensorflow:TPU system grpc://10.0.188.130:8470 has already been initialized. Reinitializing the TPU can cause previously created variables on TPU to be lost.\n"
          ]
        },
        {
          "output_type": "stream",
          "name": "stdout",
          "text": [
            "Epoch 1/30\n",
            "329/329 [==============================] - 13s 30ms/step - loss: 0.4906 - acc: 0.8612 - val_loss: 0.2584 - val_acc: 0.9248\n",
            "Epoch 2/30\n",
            "329/329 [==============================] - 8s 23ms/step - loss: 0.2130 - acc: 0.9387 - val_loss: 0.1919 - val_acc: 0.9453\n",
            "Epoch 3/30\n",
            "329/329 [==============================] - 8s 24ms/step - loss: 0.1613 - acc: 0.9525 - val_loss: 0.1728 - val_acc: 0.9504\n",
            "Epoch 4/30\n",
            "329/329 [==============================] - 9s 27ms/step - loss: 0.1334 - acc: 0.9610 - val_loss: 0.1482 - val_acc: 0.9568\n",
            "Epoch 5/30\n",
            "329/329 [==============================] - 9s 27ms/step - loss: 0.1142 - acc: 0.9671 - val_loss: 0.1373 - val_acc: 0.9594\n",
            "Epoch 6/30\n",
            "329/329 [==============================] - 8s 24ms/step - loss: 0.0965 - acc: 0.9718 - val_loss: 0.1232 - val_acc: 0.9629\n",
            "Epoch 7/30\n",
            "329/329 [==============================] - 8s 25ms/step - loss: 0.0848 - acc: 0.9749 - val_loss: 0.1196 - val_acc: 0.9660\n",
            "Epoch 8/30\n",
            "329/329 [==============================] - 8s 25ms/step - loss: 0.0747 - acc: 0.9783 - val_loss: 0.1180 - val_acc: 0.9658\n",
            "Epoch 9/30\n",
            "329/329 [==============================] - 8s 25ms/step - loss: 0.0666 - acc: 0.9801 - val_loss: 0.1237 - val_acc: 0.9637\n",
            "Epoch 10/30\n",
            "329/329 [==============================] - 8s 25ms/step - loss: 0.0574 - acc: 0.9830 - val_loss: 0.1227 - val_acc: 0.9644\n",
            "Epoch 11/30\n",
            "329/329 [==============================] - 8s 24ms/step - loss: 0.0520 - acc: 0.9849 - val_loss: 0.1198 - val_acc: 0.9651\n",
            "Epoch 12/30\n",
            "329/329 [==============================] - 7s 22ms/step - loss: 0.0450 - acc: 0.9870 - val_loss: 0.1217 - val_acc: 0.9656\n",
            "Epoch 13/30\n",
            "329/329 [==============================] - 7s 21ms/step - loss: 0.0402 - acc: 0.9880 - val_loss: 0.1119 - val_acc: 0.9689\n",
            "Epoch 14/30\n",
            "329/329 [==============================] - 7s 21ms/step - loss: 0.0353 - acc: 0.9899 - val_loss: 0.1133 - val_acc: 0.9679\n",
            "Epoch 15/30\n",
            "329/329 [==============================] - 7s 22ms/step - loss: 0.0319 - acc: 0.9915 - val_loss: 0.1202 - val_acc: 0.9674\n",
            "Epoch 16/30\n",
            "329/329 [==============================] - 8s 23ms/step - loss: 0.0311 - acc: 0.9908 - val_loss: 0.1170 - val_acc: 0.9691\n",
            "Epoch 17/30\n",
            "329/329 [==============================] - 7s 22ms/step - loss: 0.0241 - acc: 0.9935 - val_loss: 0.1223 - val_acc: 0.9673\n",
            "Epoch 18/30\n",
            "329/329 [==============================] - 7s 22ms/step - loss: 0.0224 - acc: 0.9937 - val_loss: 0.1225 - val_acc: 0.9682\n",
            "Epoch 19/30\n",
            "329/329 [==============================] - 7s 22ms/step - loss: 0.0185 - acc: 0.9951 - val_loss: 0.1237 - val_acc: 0.9680\n",
            "Epoch 20/30\n",
            "329/329 [==============================] - 8s 23ms/step - loss: 0.0170 - acc: 0.9958 - val_loss: 0.1279 - val_acc: 0.9684\n",
            "Epoch 21/30\n",
            "329/329 [==============================] - 7s 22ms/step - loss: 0.0155 - acc: 0.9957 - val_loss: 0.1327 - val_acc: 0.9671\n",
            "Epoch 22/30\n",
            "329/329 [==============================] - 7s 21ms/step - loss: 0.0130 - acc: 0.9970 - val_loss: 0.1245 - val_acc: 0.9702\n",
            "Epoch 23/30\n",
            "329/329 [==============================] - 7s 22ms/step - loss: 0.0123 - acc: 0.9970 - val_loss: 0.1286 - val_acc: 0.9704\n",
            "Epoch 24/30\n",
            "329/329 [==============================] - 7s 22ms/step - loss: 0.0116 - acc: 0.9969 - val_loss: 0.1239 - val_acc: 0.9715\n",
            "Epoch 25/30\n",
            "329/329 [==============================] - 7s 22ms/step - loss: 0.0080 - acc: 0.9985 - val_loss: 0.1369 - val_acc: 0.9702\n",
            "Epoch 26/30\n",
            "329/329 [==============================] - 7s 23ms/step - loss: 0.0075 - acc: 0.9984 - val_loss: 0.1352 - val_acc: 0.9709\n",
            "Epoch 27/30\n",
            "329/329 [==============================] - 7s 22ms/step - loss: 0.0068 - acc: 0.9986 - val_loss: 0.1356 - val_acc: 0.9701\n",
            "Epoch 28/30\n",
            "329/329 [==============================] - 7s 22ms/step - loss: 0.0115 - acc: 0.9969 - val_loss: 0.1437 - val_acc: 0.9696\n",
            "Epoch 29/30\n",
            "329/329 [==============================] - 7s 21ms/step - loss: 0.0126 - acc: 0.9960 - val_loss: 0.1415 - val_acc: 0.9702\n",
            "Epoch 30/30\n",
            "329/329 [==============================] - 7s 21ms/step - loss: 0.0065 - acc: 0.9986 - val_loss: 0.1492 - val_acc: 0.9692\n",
            "313/313 [==============================] - 6s 17ms/step - loss: 0.1505 - acc: 0.9688\n",
            "(10000, 10)\n",
            "각 클래스에 속할 확률\n",
            "[1.2883831e-12 2.9995602e-16 3.2773575e-09 3.6761041e-05 2.3399728e-21\n",
            " 3.4349724e-11 2.2642752e-22 9.9996316e-01 7.1769091e-11 9.5939406e-08]\n",
            "estimation:7\n",
            "정답:7\n"
          ]
        }
      ],
      "source": [
        "import tensorflow as tf\n",
        "from tensorflow.keras.datasets.mnist import load_data\n",
        "from sklearn.model_selection import train_test_split\n",
        "from tensorflow.keras.utils import to_categorical\n",
        "from tensorflow.keras.models import Sequential\n",
        "from tensorflow.keras.layers import Dense\n",
        "import os\n",
        "\n",
        "# 데이터 불러오기\n",
        "(x_train_org,y_train_org),(x_test,y_test)=load_data(path='mnist.npz')\n",
        "\n",
        "# 트레인 데이터를 진짜 train 할 것과 검증할 테스느 데이터로 나누기\n",
        "x_train,x_val,y_train,y_val=train_test_split(x_train_org,y_train_org,test_size=0.3,random_state=777)\n",
        "\n",
        "num_x_train=x_train.shape[0]\n",
        "num_x_val=x_val.shape[0]\n",
        "num_x_test=x_test.shape[0]\n",
        "\n",
        "# 1차원 데이터로 전처리\n",
        "x_train=(x_train.reshape((num_x_train,28*28)))/255\n",
        "x_val=(x_val.reshape((num_x_val,28*28)))/255\n",
        "x_test=(x_test.reshape((num_x_test,28*28)))/255\n",
        "\n",
        "# categorize 위한 train data 변환\n",
        "# 주의: 변수 이름 바꿨음!!!\n",
        "y_train_categ=to_categorical(y_train)\n",
        "y_val_categ=to_categorical(y_val)\n",
        "y_test_categ=to_categorical(y_test)\n",
        "\n",
        "# sepcial statements for TPU\n",
        "resolver = tf.distribute.cluster_resolver.TPUClusterResolver(tpu='grpc://' + os.environ['COLAB_TPU_ADDR'])\n",
        "\n",
        "tf.config.experimental_connect_to_cluster(resolver)\n",
        "tf.tpu.experimental.initialize_tpu_system(resolver)\n",
        "strategy = tf.distribute.TPUStrategy(resolver)\n",
        "\n",
        "with strategy.scope():\n",
        "  # 모델 만들기: 3층 DNN\n",
        "  model=Sequential()\n",
        "\n",
        "  model.add(Dense(64,activation='relu', input_shape=(784,)))\n",
        "  model.add(Dense(32,activation='relu'))\n",
        "  model.add(Dense(10,activation='softmax'))\n",
        "\n",
        "  # 모델 묶고\n",
        "  model.compile(optimizer='adam',loss='categorical_crossentropy',metrics=['acc'])\n",
        "  # 학습\n",
        "  history=model.fit(x_train,y_train_categ,epochs=30,batch_size=128,validation_data=(x_val,y_val_categ))\n",
        "\n",
        "model.evaluate(x_test,y_test_categ)\n",
        "\n",
        "# 학습된 모델을 가지고 test 데이터의 값 예측 테스트\n",
        "import numpy as np\n",
        "\n",
        "results=model.predict(x_test)\n",
        "\n",
        "print(results.shape)\n",
        "np.set_printoptions(precision=7)\n",
        "print(f'각 클래스에 속할 확률\\n{results[0]}')\n",
        "print(f\"estimation:{np.argmax(results[0])}\")\n",
        "print(f\"정답:{y_test[0]}\")"
      ]
    }
  ]
}