{
  "nbformat": 4,
  "nbformat_minor": 0,
  "metadata": {
    "colab": {
      "provenance": [],
      "authorship_tag": "ABX9TyNVUs/h02sCoFJZWS6VHj5Z",
      "include_colab_link": true
    },
    "kernelspec": {
      "name": "python3",
      "display_name": "Python 3"
    },
    "language_info": {
      "name": "python"
    }
  },
  "cells": [
    {
      "cell_type": "markdown",
      "metadata": {
        "id": "view-in-github",
        "colab_type": "text"
      },
      "source": [
        "<a href=\"https://colab.research.google.com/github/shyookml/fdl/blob/Chap.5/fashion_mnist_cnn.ipynb\" target=\"_parent\"><img src=\"https://colab.research.google.com/assets/colab-badge.svg\" alt=\"Open In Colab\"/></a>"
      ]
    },
    {
      "cell_type": "code",
      "execution_count": null,
      "metadata": {
        "id": "Z-7yyu7OlLFN"
      },
      "outputs": [],
      "source": [
        "from tensorflow.keras.datasets import fashion_mnist\n",
        "\n",
        "(x_train,y_train),(x_test,y_test)=fashion_mnist.load_data()\n",
        "\n",
        "print(x_train.shape)\n",
        "\n",
        "import matplotlib.pyplot as plt\n",
        "import numpy as np\n",
        "np.random.seed(777)\n",
        "\n",
        "class_names=['T-shirt/top','Trouser','Pullover','Dress','Coat','Sandal','Shirt','Sneaker','Bag','Ankle boot']\n",
        "\n",
        "sample_size=9\n",
        "\n",
        "random_idx=np.random.randint(60000,size=sample_size)\n",
        "\n",
        "x_train=np.reshape(x_train/255,(-1,28,28,1))\n",
        "x_test=np.reshape(x_test/255,(-1,28,28,1))\n",
        "\n",
        "print(x_train.shape)\n",
        "\n",
        "from tensorflow.keras.utils import to_categorical\n",
        "y_train=to_categorical(y_train)\n",
        "y_test=to_categorical(y_test)\n",
        "\n",
        "from sklearn.model_selection import train_test_split\n",
        "\n",
        "x_train,x_val,y_train,y_val=train_test_split(x_train,y_train,test_size=0.3,random_state=777)\n",
        "print('Fashion MNIST is ready!!')\n"
      ]
    },
    {
      "cell_type": "code",
      "source": [
        "from tensorflow.keras.models import Sequential\n",
        "from tensorflow.keras.layers import Conv2D,MaxPool2D,Dense,Flatten\n",
        "\n",
        "model=Sequential([\n",
        "    Conv2D(filters=16,kernel_size=3,padding='same',activation='relu',input_shape=(28,28,1)),\n",
        "    MaxPool2D(pool_size=(2,2),strides=2,padding='same'),\n",
        "    Conv2D(filters=32,kernel_size=3,padding='same',activation='relu'),\n",
        "    MaxPool2D(pool_size=(2,2),strides=2,padding='same'),\n",
        "    Conv2D(filters=64,kernel_size=3,padding='same',activation='relu'),\n",
        "    MaxPool2D(pool_size=(2,2),strides=2,padding='same'),\n",
        "    Flatten(),\n",
        "    Dense(64,activation='relu'),\n",
        "    Dense(10,activation='softmax')\n",
        "])"
      ],
      "metadata": {
        "id": "4MUtBkE0pQ2V"
      },
      "execution_count": 9,
      "outputs": []
    },
    {
      "cell_type": "code",
      "source": [
        "model.compile(optimizer='adam',loss='categorical_crossentropy',metrics=['acc'])\n",
        "model.fit(x_train,y_train,epochs=30,batch_size=128,validation_data=(x_val,y_val))"
      ],
      "metadata": {
        "id": "rgsBvKtIrH3K"
      },
      "execution_count": null,
      "outputs": []
    },
    {
      "cell_type": "code",
      "source": [
        "#model.evaluate(x_test,y_test)\n",
        "results=model.predict(x_test)\n",
        "print(len(results))\n",
        "indx=np.random.randint(len(results))\n",
        "arg_res=np.argmax(results,axis=-1)\n",
        "plt.imshow(x_test[indx].reshape(28,28))\n",
        "plt.show()\n",
        "print(class_names[arg_res[indx]],\":\",class_names[np.argmax(y_test[indx])])"
      ],
      "metadata": {
        "colab": {
          "base_uri": "https://localhost:8080/",
          "height": 300
        },
        "id": "MVfdSrm_vgx4",
        "outputId": "31bf72a9-4441-4b97-ff31-142cc6b697bd"
      },
      "execution_count": 29,
      "outputs": [
        {
          "output_type": "stream",
          "name": "stdout",
          "text": [
            "10000\n"
          ]
        },
        {
          "output_type": "display_data",
          "data": {
            "text/plain": [
              "<Figure size 432x288 with 1 Axes>"
            ],
            "image/png": "[encoded data removed]"
          },
          "metadata": {
            "needs_background": "light"
          }
        },
        {
          "output_type": "stream",
          "name": "stdout",
          "text": [
            "Shirt : Shirt\n"
          ]
        }
      ]
    },
    {
      "cell_type": "code",
      "source": [
        "model.summary()"
      ],
      "metadata": {
        "id": "xhaXO1LuuunX"
      },
      "execution_count": null,
      "outputs": []
    },
    {
      "cell_type": "code",
      "source": [
        "import os\n",
        "from tensorflow.keras.utils import plot_model\n",
        "plot_model(model,'./model.png',show_shapes=True)"
      ],
      "metadata": {
        "id": "c7GF8KakuzcN"
      },
      "execution_count": null,
      "outputs": []
    }
  ]
}